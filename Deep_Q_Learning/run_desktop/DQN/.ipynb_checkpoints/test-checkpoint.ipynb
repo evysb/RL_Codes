{
 "cells": [
  {
   "cell_type": "code",
   "execution_count": null,
   "metadata": {},
   "outputs": [],
   "source": [
    "from __future__ import division, print_function\n",
    "from keras.models import load_model\n",
    "from keras.optimizers import Adam\n",
    "from scipy.misc import imresize\n",
    "import numpy as np\n",
    "import os\n",
    "\n",
    "import wrapped_game_show as wp"
   ]
  },
  {
   "cell_type": "code",
   "execution_count": null,
   "metadata": {},
   "outputs": [],
   "source": [
    "def preprocess_images(images):\n",
    "    if images.shape[0] < 4:\n",
    "        # 1 imagem\n",
    "        x_t = images[0]\n",
    "        x_t = imresize(x_t, (80, 80))\n",
    "        x_t = x_t.astype(\"float\")\n",
    "        x_t /= 255.0\n",
    "        s_t = np.stack((x_t, x_t, x_t, x_t), axis=2)\n",
    "    else:\n",
    "        # 4 imagens\n",
    "        xt_list = []\n",
    "        for i in range(images.shape[0]):\n",
    "            x_t = imresize(images[i], (80, 80))\n",
    "            x_t = x_t.astype(\"float\")\n",
    "            x_t /= 255.0\n",
    "            xt_list.append(x_t)\n",
    "        s_t = np.stack((xt_list[0], xt_list[1], xt_list[2], xt_list[3]), \n",
    "                       axis=2)\n",
    "    s_t = np.expand_dims(s_t, axis=0)\n",
    "    return s_t"
   ]
  },
  {
   "cell_type": "code",
   "execution_count": null,
   "metadata": {},
   "outputs": [],
   "source": [
    "DATA_DIR = \"../data\"\n",
    "\n",
    "BATCH_SIZE = 32\n",
    "NUM_EPOCHS = 100\n",
    "\n",
    "model = load_model(\"model.h5\") #carrega dados\n",
    "model.compile(optimizer=Adam(lr=1e-6), loss=\"mse\")\n",
    "\n",
    "\n",
    "game = wp.MyWrappedGame()\n",
    "\n",
    "num_games, num_wins = 0, 0\n",
    "for e in range(NUM_EPOCHS):\n",
    "    loss = 0.0\n",
    "    game.reset()\n",
    "    \n",
    "    # pega primeiro estado\n",
    "    a_0 = 1  # (0 = esquerda, 1 = faz nada, 2 = direita)\n",
    "    x_t, r_0, game_over = game.step(a_0) \n",
    "    s_t = preprocess_images(x_t)\n",
    "\n",
    "    while not game_over:\n",
    "        s_tm1 = s_t\n",
    "        # próxima ação\n",
    "        q = model.predict(s_t)[0]\n",
    "        a_t = np.argmax(q)\n",
    "        # faz a ação, pega recompensa\n",
    "        x_t, r_t, game_over = game.step(a_t)\n",
    "        s_t = preprocess_images(x_t)\n",
    "        # se tiver recompensa, incrementa o numero de vitorias (num_wins)\n",
    "        if r_t == 1:\n",
    "            num_wins += 1\n",
    "\n",
    "    num_games += 1\n",
    "    print(\"Jogos: {:03d}, Vitórias: {:03d}\".format(num_games, num_wins), end=\"\\r\")\n",
    "        \n",
    "print(\"\")\n"
   ]
  }
 ],
 "metadata": {
  "kernelspec": {
   "display_name": "Python 3",
   "language": "python",
   "name": "python3"
  },
  "language_info": {
   "codemirror_mode": {
    "name": "ipython",
    "version": 3
   },
   "file_extension": ".py",
   "mimetype": "text/x-python",
   "name": "python",
   "nbconvert_exporter": "python",
   "pygments_lexer": "ipython3",
   "version": "3.5.4"
  }
 },
 "nbformat": 4,
 "nbformat_minor": 2
}
