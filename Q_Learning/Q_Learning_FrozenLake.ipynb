{
  "nbformat": 4,
  "nbformat_minor": 0,
  "metadata": {
    "colab": {
      "name": "Q_Learning_FrozenLake.ipynb",
      "provenance": [],
      "collapsed_sections": [],
      "include_colab_link": true
    },
    "kernelspec": {
      "name": "python3",
      "display_name": "Python 3"
    }
  },
  "cells": [
    {
      "cell_type": "markdown",
      "metadata": {
        "id": "view-in-github",
        "colab_type": "text"
      },
      "source": [
        "<a href=\"https://colab.research.google.com/github/evysb/RL_Codes/blob/main/Q_Learning/Q_Learning_FrozenLake.ipynb\" target=\"_parent\"><img src=\"https://colab.research.google.com/assets/colab-badge.svg\" alt=\"Open In Colab\"/></a>"
      ]
    },
    {
      "cell_type": "markdown",
      "metadata": {
        "id": "5aQKQMJTJBPH"
      },
      "source": [
        "# Q* Learning with FrozenLake 4x4 \n",
        "\n",
        "Neste Notebook, implementaremos um agente <b> que reproduz FrozenLake. </b>\n",
        "\n",
        "![alt text](http://simoninithomas.com/drlc/Qlearning/frozenlake4x4.png)\n",
        "\n",
        "O objetivo deste jogo é <b> ir do estado inicial (S) para o estado objetivo (G) </b> caminhando apenas em ladrilhos congelados (F) e evitando buracos (H). No entanto, o gelo é escorregadio, ** então você nem sempre se moverá na direção que pretende (ambiente estocástico) **\n",
        "\n",
        "By [lukewys](https://github.com/lukewys)\n",
        "And [simoninithomas](https://github.com/simoninithomas)"
      ]
    },
    {
      "cell_type": "markdown",
      "metadata": {
        "id": "54AIvDov_7aa"
      },
      "source": [
        "## Step -1: Instale as dependências no Google Colab"
      ]
    },
    {
      "cell_type": "code",
      "metadata": {
        "id": "gxxpHDIs_lvg",
        "colab": {
          "base_uri": "https://localhost:8080/"
        },
        "outputId": "4ba0adfd-6162-4f9e-fd52-4d36dd08722a"
      },
      "source": [
        "!pip install numpy\n",
        "!pip install gym"
      ],
      "execution_count": null,
      "outputs": [
        {
          "output_type": "stream",
          "text": [
            "Requirement already satisfied: numpy in /usr/local/lib/python3.7/dist-packages (1.19.5)\n",
            "Requirement already satisfied: gym in /usr/local/lib/python3.7/dist-packages (0.17.3)\n",
            "Requirement already satisfied: scipy in /usr/local/lib/python3.7/dist-packages (from gym) (1.4.1)\n",
            "Requirement already satisfied: numpy>=1.10.4 in /usr/local/lib/python3.7/dist-packages (from gym) (1.19.5)\n",
            "Requirement already satisfied: cloudpickle<1.7.0,>=1.2.0 in /usr/local/lib/python3.7/dist-packages (from gym) (1.3.0)\n",
            "Requirement already satisfied: pyglet<=1.5.0,>=1.4.0 in /usr/local/lib/python3.7/dist-packages (from gym) (1.5.0)\n",
            "Requirement already satisfied: future in /usr/local/lib/python3.7/dist-packages (from pyglet<=1.5.0,>=1.4.0->gym) (0.16.0)\n"
          ],
          "name": "stdout"
        }
      ]
    },
    {
      "cell_type": "markdown",
      "metadata": {
        "id": "G9qH33L_QoBk"
      },
      "source": [
        "## Step 0: Importar as dependências 📚\n",
        "Usamos 3 bibliotecas:\n",
        "- `Numpy` para nosso Qtable\n",
        "- `OpenAI Gym` para nosso ambiente FrozenLake\n",
        "- `Random` para gerar números aleatórios"
      ]
    },
    {
      "cell_type": "code",
      "metadata": {
        "id": "oU8zRXv8QHlm"
      },
      "source": [
        "import numpy as np\n",
        "import gym\n",
        "import random"
      ],
      "execution_count": null,
      "outputs": []
    },
    {
      "cell_type": "markdown",
      "metadata": {
        "id": "0fz-X3HTQueX"
      },
      "source": [
        "## Step 1: Crie o ambiente 🎮\n",
        "- Aqui vamos criar o ambiente FrozenLake 4x4.\n",
        "- OpenAI Gym é uma biblioteca <b> composta por vários ambientes que podemos usar para treinar nossos agentes. </b>\n",
        "- No nosso caso optamos por usar Frozen Lake."
      ]
    },
    {
      "cell_type": "code",
      "metadata": {
        "id": "mh9jBR_cQ5_a"
      },
      "source": [
        "env = gym.make(\"FrozenLake-v0\")"
      ],
      "execution_count": null,
      "outputs": []
    },
    {
      "cell_type": "markdown",
      "metadata": {
        "id": "JEtXMldxQ7uw"
      },
      "source": [
        "## Step 2: Crie a tabela Q e inicialize-a 🗄️\n",
        "- Agora, vamos criar nossa tabela Q, para saber de quantas linhas (estados) e colunas (ações) precisamos, precisamos calcular o action_size e o state_size\n",
        "- OpenAI Gym nos fornece uma maneira de fazer isso: `env.action_space.n` e` env.observation_space.n`"
      ]
    },
    {
      "cell_type": "code",
      "metadata": {
        "id": "Uc0xDVd_Q-C8"
      },
      "source": [
        "action_size = env.action_space.n\n",
        "state_size = env.observation_space.n"
      ],
      "execution_count": null,
      "outputs": []
    },
    {
      "cell_type": "code",
      "metadata": {
        "colab": {
          "base_uri": "https://localhost:8080/"
        },
        "id": "SApJ4CvYnSvh",
        "outputId": "887f82ab-d2b5-425b-db85-974e39742a49"
      },
      "source": [
        "state_size"
      ],
      "execution_count": null,
      "outputs": [
        {
          "output_type": "execute_result",
          "data": {
            "text/plain": [
              "16"
            ]
          },
          "metadata": {
            "tags": []
          },
          "execution_count": 6
        }
      ]
    },
    {
      "cell_type": "code",
      "metadata": {
        "id": "17XBPCecAsZG",
        "colab": {
          "base_uri": "https://localhost:8080/"
        },
        "outputId": "f0b7a347-7117-4926-8103-fd6532e9f400"
      },
      "source": [
        "# Crie nossa tabela Q com linhas state_size e colunas action_size (64x4)\n",
        "print('state_size ',state_size)\n",
        "print('action_size ',action_size)\n",
        "qtable = np.zeros((state_size, action_size))\n",
        "print(qtable)"
      ],
      "execution_count": null,
      "outputs": [
        {
          "output_type": "stream",
          "text": [
            "state_size  16\n",
            "action_size  4\n",
            "[[0. 0. 0. 0.]\n",
            " [0. 0. 0. 0.]\n",
            " [0. 0. 0. 0.]\n",
            " [0. 0. 0. 0.]\n",
            " [0. 0. 0. 0.]\n",
            " [0. 0. 0. 0.]\n",
            " [0. 0. 0. 0.]\n",
            " [0. 0. 0. 0.]\n",
            " [0. 0. 0. 0.]\n",
            " [0. 0. 0. 0.]\n",
            " [0. 0. 0. 0.]\n",
            " [0. 0. 0. 0.]\n",
            " [0. 0. 0. 0.]\n",
            " [0. 0. 0. 0.]\n",
            " [0. 0. 0. 0.]\n",
            " [0. 0. 0. 0.]]\n"
          ],
          "name": "stdout"
        }
      ]
    },
    {
      "cell_type": "markdown",
      "metadata": {
        "id": "WEGeWKKsAu7X"
      },
      "source": [
        "## Step 3: Crie os hiperparâmetros ⚙️\n",
        "- Aqui, vamos especificar os hiperparâmetros"
      ]
    },
    {
      "cell_type": "code",
      "metadata": {
        "id": "FJhPxx7UAunE"
      },
      "source": [
        "total_episodes = 30000       # Total episodes\n",
        "learning_rate = 0.35          # Learning rate\n",
        "max_steps = 99               # Max steps per episode\n",
        "gamma = 0.99                # Discounting rate\n",
        "\n",
        "# Exploration parameters\n",
        "epsilon = 1.0                 # Exploration rate\n",
        "max_epsilon = 1.0             # Exploration probability at start\n",
        "min_epsilon = 0.01            # Minimum exploration probability \n",
        "decay_rate = 0.005            # Exponential decay rate for exploration prob"
      ],
      "execution_count": null,
      "outputs": []
    },
    {
      "cell_type": "markdown",
      "metadata": {
        "id": "rcdaN_DbA3ES"
      },
      "source": [
        "## Step 4: O algoritmo de aprendizagem Q 🧠\n",
        "- Agora implementamos o algoritmo de aprendizagem Q:\n",
        "  ![alt text](http://simoninithomas.com/drlc/Qlearning//qtable_algo.png)\n"
      ]
    },
    {
      "cell_type": "code",
      "metadata": {
        "id": "5Dqqo_8LA5De",
        "colab": {
          "base_uri": "https://localhost:8080/"
        },
        "outputId": "902d5d6d-ca68-485b-f6b4-e517aa42f5a5"
      },
      "source": [
        "# List of rewards\n",
        "rewards = []\n",
        "\n",
        "# 2 For life or until learning is stopped\n",
        "for episode in range(total_episodes):\n",
        "    # Reset the environment\n",
        "    state = env.reset()\n",
        "    step = 0\n",
        "    done = False\n",
        "    total_rewards = 0\n",
        "    \n",
        "    for step in range(max_steps):\n",
        "        # 3. Choose an action a in the current world state (s)\n",
        "        ## First we randomize a number\n",
        "        exp_exp_tradeoff = random.uniform(0, 1)\n",
        "        \n",
        "        ## If this number > greater than epsilon --> exploitation (taking the biggest Q value for this state)\n",
        "        if exp_exp_tradeoff > epsilon:\n",
        "            action = np.argmax(qtable[state,:])\n",
        "            #print(exp_exp_tradeoff, \"action\", action)\n",
        "\n",
        "        # Else doing a random choice --> exploration\n",
        "        else:\n",
        "            action = env.action_space.sample()\n",
        "            #print(\"action random\", action)\n",
        "            \n",
        "        \n",
        "        # Take the action (a) and observe the outcome state(s') and reward (r)\n",
        "        new_state, reward, done, info = env.step(action)\n",
        "\n",
        "        # Update Q(s,a):= Q(s,a) + lr [R(s,a) + gamma * max Q(s',a') - Q(s,a)]\n",
        "        # qtable[new_state,:] : all the actions we can take from new state\n",
        "        qtable[state, action] = qtable[state, action] + learning_rate * (reward + gamma * np.max(qtable[new_state, :]) - qtable[state, action])\n",
        "        \n",
        "        total_rewards += reward\n",
        "        \n",
        "        # Our new state is state\n",
        "        state = new_state\n",
        "        \n",
        "        # If done (if we're dead) : finish episode\n",
        "        if done == True: \n",
        "            break\n",
        "        \n",
        "    # Reduce epsilon (because we need less and less exploration)\n",
        "    epsilon = min_epsilon + (max_epsilon - min_epsilon)*np.exp(-decay_rate*episode) \n",
        "    rewards.append(total_rewards)\n",
        "    \n",
        "\n",
        "print (\"Score over time: \" +  str(sum(rewards)/total_episodes))\n",
        "print(qtable)"
      ],
      "execution_count": null,
      "outputs": [
        {
          "output_type": "stream",
          "text": [
            "Score over time: 0.6267\n",
            "[[0.53818002 0.48324973 0.49723459 0.48406479]\n",
            " [0.26720103 0.31077912 0.16111621 0.50215077]\n",
            " [0.36926342 0.35209472 0.30524911 0.44248906]\n",
            " [0.32677114 0.31944778 0.13917174 0.40667972]\n",
            " [0.56781325 0.23936939 0.45841468 0.43076468]\n",
            " [0.         0.         0.         0.        ]\n",
            " [0.04798811 0.00961932 0.42548689 0.10532619]\n",
            " [0.         0.         0.         0.        ]\n",
            " [0.3534624  0.39878702 0.46496338 0.63848207]\n",
            " [0.26955977 0.61283535 0.3761658  0.29139295]\n",
            " [0.67827298 0.24702084 0.2336198  0.2432556 ]\n",
            " [0.         0.         0.         0.        ]\n",
            " [0.         0.         0.         0.        ]\n",
            " [0.3535872  0.37143445 0.81420059 0.38146517]\n",
            " [0.60821444 0.92136603 0.63934023 0.59840911]\n",
            " [0.         0.         0.         0.        ]]\n"
          ],
          "name": "stdout"
        }
      ]
    },
    {
      "cell_type": "markdown",
      "metadata": {
        "id": "R5czk9qTBQIU"
      },
      "source": [
        "## Step 5: Use nossa tabela Q para jogar FrozenLake! 👾\n",
        "- Depois de 10.000 episódios, nossa tabela-Q pode ser usada como uma \"folha de cheats\" para jogar FrozenLake \"\n",
        "- Ao rodar este celular você pode ver nosso agente jogando FrozenLake."
      ]
    },
    {
      "cell_type": "code",
      "metadata": {
        "id": "Bt8UsREaBNkJ",
        "colab": {
          "base_uri": "https://localhost:8080/"
        },
        "outputId": "2b14cc35-d014-4652-962d-51efbaea9094"
      },
      "source": [
        "env.reset()\n",
        "\n",
        "for episode in range(5):\n",
        "    state = env.reset()\n",
        "    step = 0\n",
        "    done = False\n",
        "    print(\"****************************************************\")\n",
        "    print(\"EPISODE \", episode)\n",
        "\n",
        "    for step in range(max_steps):\n",
        "        \n",
        "        # Take the action (index) that have the maximum expected future reward given that state\n",
        "        action = np.argmax(qtable[state,:])\n",
        "        \n",
        "        new_state, reward, done, info = env.step(action)\n",
        "        \n",
        "        if done:\n",
        "            # Here, we decide to only print the last state (to see if our agent is on the goal or fall into an hole)\n",
        "            env.render()\n",
        "            if new_state == 15:\n",
        "                print(\"We reached our Goal 🏆\")\n",
        "            else:\n",
        "                print(\"We fell into a hole ☠️\")\n",
        "            \n",
        "            # We print the number of step it took.\n",
        "            print(\"Number of steps\", step)\n",
        "            \n",
        "            break\n",
        "        state = new_state\n",
        "env.close()"
      ],
      "execution_count": null,
      "outputs": [
        {
          "output_type": "stream",
          "text": [
            "****************************************************\n",
            "EPISODE  0\n",
            "  (Down)\n",
            "SFFF\n",
            "FHFH\n",
            "FFFH\n",
            "HFF\u001b[41mG\u001b[0m\n",
            "We reached our Goal 🏆\n",
            "Number of steps 10\n",
            "****************************************************\n",
            "EPISODE  1\n",
            "  (Down)\n",
            "SFFF\n",
            "FHFH\n",
            "FFFH\n",
            "HFF\u001b[41mG\u001b[0m\n",
            "We reached our Goal 🏆\n",
            "Number of steps 68\n",
            "****************************************************\n",
            "EPISODE  2\n",
            "****************************************************\n",
            "EPISODE  3\n",
            "  (Down)\n",
            "SFFF\n",
            "FHFH\n",
            "FFFH\n",
            "HFF\u001b[41mG\u001b[0m\n",
            "We reached our Goal 🏆\n",
            "Number of steps 7\n",
            "****************************************************\n",
            "EPISODE  4\n",
            "  (Down)\n",
            "SFFF\n",
            "FHFH\n",
            "FFFH\n",
            "HFF\u001b[41mG\u001b[0m\n",
            "We reached our Goal 🏆\n",
            "Number of steps 27\n"
          ],
          "name": "stdout"
        }
      ]
    },
    {
      "cell_type": "code",
      "metadata": {
        "id": "2qQOrubpNW01"
      },
      "source": [
        ""
      ],
      "execution_count": null,
      "outputs": []
    }
  ]
}